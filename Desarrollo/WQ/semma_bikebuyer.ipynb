{
 "cells": [
  {
   "cell_type": "markdown",
   "id": "919f0f80",
   "metadata": {},
   "source": [
    "<h1 style=\"text-align:center\"><strong>📊 SEMMA aplicado a \"BikeBuyer\"</strong></h1>"
   ]
  },
  {
   "cell_type": "markdown",
   "id": "a1da8017",
   "metadata": {},
   "source": [
    "# **SETUP ENTORNO**"
   ]
  },
  {
   "cell_type": "code",
   "execution_count": 180,
   "id": "89175560",
   "metadata": {},
   "outputs": [],
   "source": [
    "import pandas as pd\n",
    "import numpy as np\n",
    "import seaborn as sns\n",
    "import matplotlib.pyplot as plt\n",
    "import plotly.express as px\n",
    "from sklearn.model_selection import train_test_split\n",
    "from sklearn.preprocessing import StandardScaler\n",
    "from sklearn.ensemble import RandomForestClassifier, GradientBoostingClassifier\n",
    "from sklearn.metrics import classification_report, confusion_matrix, accuracy_score\n",
    "import joblib\n",
    "import os\n",
    "\n",
    "# Carpetas para guardar lod archivos\n",
    "os.makedirs(\"outputs/graficos\", exist_ok=True)\n"
   ]
  },
  {
   "cell_type": "markdown",
   "id": "3e68c119",
   "metadata": {},
   "source": [
    "# **1. SAMPLE - MUESTRA** "
   ]
  },
  {
   "cell_type": "code",
   "execution_count": 114,
   "id": "18a06201",
   "metadata": {},
   "outputs": [
    {
     "name": "stdout",
     "output_type": "stream",
     "text": [
      "Filas: 18484, Columnas: 31\n"
     ]
    },
    {
     "data": {
      "text/html": [
       "<div>\n",
       "<style scoped>\n",
       "    .dataframe tbody tr th:only-of-type {\n",
       "        vertical-align: middle;\n",
       "    }\n",
       "\n",
       "    .dataframe tbody tr th {\n",
       "        vertical-align: top;\n",
       "    }\n",
       "\n",
       "    .dataframe thead th {\n",
       "        text-align: right;\n",
       "    }\n",
       "</style>\n",
       "<table border=\"1\" class=\"dataframe\">\n",
       "  <thead>\n",
       "    <tr style=\"text-align: right;\">\n",
       "      <th></th>\n",
       "      <th>﻿CustomerKey</th>\n",
       "      <th>GeographyKey</th>\n",
       "      <th>CustomerAlternateKey</th>\n",
       "      <th>Title</th>\n",
       "      <th>FirstName</th>\n",
       "      <th>MiddleName</th>\n",
       "      <th>LastName</th>\n",
       "      <th>NameStyle</th>\n",
       "      <th>BirthDate</th>\n",
       "      <th>MaritalStatus</th>\n",
       "      <th>...</th>\n",
       "      <th>FrenchOccupation</th>\n",
       "      <th>HouseOwnerFlag</th>\n",
       "      <th>NumberCarsOwned</th>\n",
       "      <th>AddressLine1</th>\n",
       "      <th>AddressLine2</th>\n",
       "      <th>Phone</th>\n",
       "      <th>DateFirstPurchase</th>\n",
       "      <th>CommuteDistance</th>\n",
       "      <th>Region</th>\n",
       "      <th>BikeBuyer</th>\n",
       "    </tr>\n",
       "  </thead>\n",
       "  <tbody>\n",
       "    <tr>\n",
       "      <th>0</th>\n",
       "      <td>11000</td>\n",
       "      <td>26</td>\n",
       "      <td>AW00011000</td>\n",
       "      <td>NaN</td>\n",
       "      <td>Jon</td>\n",
       "      <td>V</td>\n",
       "      <td>Yang</td>\n",
       "      <td>0</td>\n",
       "      <td>6/10/1986</td>\n",
       "      <td>M</td>\n",
       "      <td>...</td>\n",
       "      <td>Cadre</td>\n",
       "      <td>1</td>\n",
       "      <td>0</td>\n",
       "      <td>3761 N. 14th St</td>\n",
       "      <td>NaN</td>\n",
       "      <td>1 (11) 500 555-0162</td>\n",
       "      <td>19/01/2011</td>\n",
       "      <td>1-2 Miles</td>\n",
       "      <td>Pacific</td>\n",
       "      <td>1</td>\n",
       "    </tr>\n",
       "    <tr>\n",
       "      <th>1</th>\n",
       "      <td>11001</td>\n",
       "      <td>37</td>\n",
       "      <td>AW00011001</td>\n",
       "      <td>NaN</td>\n",
       "      <td>Eugene</td>\n",
       "      <td>L</td>\n",
       "      <td>Huang</td>\n",
       "      <td>0</td>\n",
       "      <td>10/05/1991</td>\n",
       "      <td>S</td>\n",
       "      <td>...</td>\n",
       "      <td>Cadre</td>\n",
       "      <td>0</td>\n",
       "      <td>1</td>\n",
       "      <td>2243 W St.</td>\n",
       "      <td>NaN</td>\n",
       "      <td>1 (11) 500 555-0110</td>\n",
       "      <td>15/01/2011</td>\n",
       "      <td>0-1 Miles</td>\n",
       "      <td>Pacific</td>\n",
       "      <td>1</td>\n",
       "    </tr>\n",
       "    <tr>\n",
       "      <th>2</th>\n",
       "      <td>11002</td>\n",
       "      <td>31</td>\n",
       "      <td>AW00011002</td>\n",
       "      <td>NaN</td>\n",
       "      <td>Ruben</td>\n",
       "      <td>NaN</td>\n",
       "      <td>Torres</td>\n",
       "      <td>0</td>\n",
       "      <td>9/02/1986</td>\n",
       "      <td>M</td>\n",
       "      <td>...</td>\n",
       "      <td>Cadre</td>\n",
       "      <td>1</td>\n",
       "      <td>1</td>\n",
       "      <td>5844 Linden Land</td>\n",
       "      <td>NaN</td>\n",
       "      <td>1 (11) 500 555-0184</td>\n",
       "      <td>7/01/2011</td>\n",
       "      <td>2-5 Miles</td>\n",
       "      <td>Pacific</td>\n",
       "      <td>1</td>\n",
       "    </tr>\n",
       "    <tr>\n",
       "      <th>3</th>\n",
       "      <td>11003</td>\n",
       "      <td>11</td>\n",
       "      <td>AW00011003</td>\n",
       "      <td>NaN</td>\n",
       "      <td>Christy</td>\n",
       "      <td>NaN</td>\n",
       "      <td>Zhu</td>\n",
       "      <td>0</td>\n",
       "      <td>14/08/1988</td>\n",
       "      <td>S</td>\n",
       "      <td>...</td>\n",
       "      <td>Cadre</td>\n",
       "      <td>0</td>\n",
       "      <td>1</td>\n",
       "      <td>1825 Village Pl.</td>\n",
       "      <td>NaN</td>\n",
       "      <td>1 (11) 500 555-0162</td>\n",
       "      <td>29/12/2010</td>\n",
       "      <td>5-10 Miles</td>\n",
       "      <td>Pacific</td>\n",
       "      <td>1</td>\n",
       "    </tr>\n",
       "    <tr>\n",
       "      <th>4</th>\n",
       "      <td>11004</td>\n",
       "      <td>19</td>\n",
       "      <td>AW00011004</td>\n",
       "      <td>NaN</td>\n",
       "      <td>Elizabeth</td>\n",
       "      <td>NaN</td>\n",
       "      <td>Johnson</td>\n",
       "      <td>0</td>\n",
       "      <td>5/08/1994</td>\n",
       "      <td>S</td>\n",
       "      <td>...</td>\n",
       "      <td>Cadre</td>\n",
       "      <td>1</td>\n",
       "      <td>4</td>\n",
       "      <td>7553 Harness Circle</td>\n",
       "      <td>NaN</td>\n",
       "      <td>1 (11) 500 555-0131</td>\n",
       "      <td>23/01/2011</td>\n",
       "      <td>1-2 Miles</td>\n",
       "      <td>Pacific</td>\n",
       "      <td>1</td>\n",
       "    </tr>\n",
       "  </tbody>\n",
       "</table>\n",
       "<p>5 rows × 31 columns</p>\n",
       "</div>"
      ],
      "text/plain": [
       "   ﻿CustomerKey  GeographyKey CustomerAlternateKey Title  FirstName  \\\n",
       "0         11000            26           AW00011000   NaN        Jon   \n",
       "1         11001            37           AW00011001   NaN     Eugene   \n",
       "2         11002            31           AW00011002   NaN      Ruben   \n",
       "3         11003            11           AW00011003   NaN    Christy   \n",
       "4         11004            19           AW00011004   NaN  Elizabeth   \n",
       "\n",
       "  MiddleName LastName  NameStyle   BirthDate MaritalStatus  ...  \\\n",
       "0          V     Yang          0   6/10/1986             M  ...   \n",
       "1          L    Huang          0  10/05/1991             S  ...   \n",
       "2        NaN   Torres          0   9/02/1986             M  ...   \n",
       "3        NaN      Zhu          0  14/08/1988             S  ...   \n",
       "4        NaN  Johnson          0   5/08/1994             S  ...   \n",
       "\n",
       "  FrenchOccupation HouseOwnerFlag NumberCarsOwned         AddressLine1  \\\n",
       "0            Cadre              1               0      3761 N. 14th St   \n",
       "1            Cadre              0               1           2243 W St.   \n",
       "2            Cadre              1               1     5844 Linden Land   \n",
       "3            Cadre              0               1     1825 Village Pl.   \n",
       "4            Cadre              1               4  7553 Harness Circle   \n",
       "\n",
       "   AddressLine2                Phone DateFirstPurchase CommuteDistance  \\\n",
       "0           NaN  1 (11) 500 555-0162        19/01/2011       1-2 Miles   \n",
       "1           NaN  1 (11) 500 555-0110        15/01/2011       0-1 Miles   \n",
       "2           NaN  1 (11) 500 555-0184         7/01/2011       2-5 Miles   \n",
       "3           NaN  1 (11) 500 555-0162        29/12/2010      5-10 Miles   \n",
       "4           NaN  1 (11) 500 555-0131        23/01/2011       1-2 Miles   \n",
       "\n",
       "    Region BikeBuyer  \n",
       "0  Pacific         1  \n",
       "1  Pacific         1  \n",
       "2  Pacific         1  \n",
       "3  Pacific         1  \n",
       "4  Pacific         1  \n",
       "\n",
       "[5 rows x 31 columns]"
      ]
     },
     "execution_count": 114,
     "metadata": {},
     "output_type": "execute_result"
    }
   ],
   "source": [
    "df = pd.read_csv(\"data/Ejercicio_Aplicacion_SEMMA.csv\", sep=None, engine=\"python\")\n",
    "\n",
    "# Tamaño inicial\n",
    "print(f\"Filas: {df.shape[0]}, Columnas: {df.shape[1]}\")\n",
    "df.head()"
   ]
  },
  {
   "cell_type": "markdown",
   "id": "98b8949d",
   "metadata": {},
   "source": [
    "# **2. EXPLORE - EXPLORACIÓN**"
   ]
  },
  {
   "cell_type": "code",
   "execution_count": 176,
   "id": "3546b42b",
   "metadata": {},
   "outputs": [
    {
     "name": "stdout",
     "output_type": "stream",
     "text": [
      "Valores nulos por columna:\n",
      " Title           18383\n",
      "MiddleName       7830\n",
      "BirthDate       10228\n",
      "AddressLine2    18172\n",
      "Age             10228\n",
      "dtype: int64\n"
     ]
    }
   ],
   "source": [
    "# Valores nulos\n",
    "nulos = df.isnull().sum()\n",
    "print(\"Valores nulos por columna:\\n\", nulos[nulos > 0])"
   ]
  },
  {
   "cell_type": "code",
   "execution_count": 177,
   "id": "2457185d",
   "metadata": {},
   "outputs": [],
   "source": [
    "# Usamos BirthDate la usamos para calcular la edad\n",
    "if 'BirthDate' in df.columns:\n",
    "    df['BirthDate'] = pd.to_datetime(df['BirthDate'], errors='coerce')\n",
    "    df['Age'] = 2025 - df['BirthDate'].dt.year\n",
    "elif 'YearBirth' in df.columns:\n",
    "    df['Age'] = 2025 - df['YearBirth']\n",
    "else:\n",
    "    print(\"No se encontró columna para calcular 'Age'\")"
   ]
  },
  {
   "cell_type": "code",
   "execution_count": 178,
   "id": "e2801154",
   "metadata": {},
   "outputs": [
    {
     "data": {
      "image/png": "[encoded data removed]",
      "text/plain": [
       "<Figure size 2000x1000 with 6 Axes>"
      ]
     },
     "metadata": {},
     "output_type": "display_data"
    }
   ],
   "source": [
    "# Distribuciones de difentes variables\n",
    "df.rename(columns=lambda x: x.strip(), inplace=True)\n",
    "fig, axs = plt.subplots(2, 3, figsize=(20, 10))\n",
    "\n",
    "# Edad\n",
    "if 'Age' in df.columns:\n",
    "    sns.histplot(df['Age'], kde=True, ax=axs[0, 0], color='teal')\n",
    "    axs[0, 0].set_title('Distribución de Edad')\n",
    "else:\n",
    "    axs[0, 0].text(0.5, 0.5, 'No hay columna Age', ha='center', va='center')\n",
    "    axs[0, 0].set_title('Distribución de Edad')\n",
    "\n",
    "# Ingreso\n",
    "if 'YearlyIncome' in df.columns:\n",
    "    sns.histplot(df['YearlyIncome'], kde=True, ax=axs[0, 1], color='orange')\n",
    "    axs[0, 1].set_title('Distribución de Ingreso Anual')\n",
    "else:\n",
    "    axs[0, 1].text(0.5, 0.5, 'No hay columna YearlyIncome', ha='center', va='center')\n",
    "    axs[0, 1].set_title('Distribución de Ingreso')\n",
    "\n",
    "# Género\n",
    "if 'Gender' in df.columns:\n",
    "    sns.countplot(data=df, x='Gender', hue='Gender', legend=False, ax=axs[0, 2], palette='coolwarm')\n",
    "    axs[0, 2].set_title('Distribución por Género')\n",
    "else:\n",
    "    axs[0, 2].text(0.5, 0.5, 'No hay columna Gender', ha='center', va='center')\n",
    "    axs[0, 2].set_title('Distribución por Género')\n",
    "\n",
    "# Estado Civil\n",
    "if 'MaritalStatus' in df.columns:\n",
    "    sns.countplot(data=df, x='MaritalStatus', hue='MaritalStatus', legend=False, ax=axs[1, 0], palette='Set2')\n",
    "    axs[1, 0].set_title('Estado Civil')\n",
    "else:\n",
    "    axs[1, 0].text(0.5, 0.5, 'No hay columna MaritalStatus', ha='center', va='center')\n",
    "    axs[1, 0].set_title('Estado Civil')\n",
    "\n",
    "# Educación\n",
    "if 'SpanishEducation' in df.columns:\n",
    "    sns.countplot(data=df, x='SpanishEducation', hue='SpanishEducation', legend=False, ax=axs[1, 1], palette='Set3')\n",
    "    axs[1, 1].set_title('Nivel Educativo')\n",
    "    axs[1, 1].tick_params(axis='x', rotation=45)\n",
    "else:\n",
    "    axs[1, 1].text(0.5, 0.5, 'No hay columna SpanishEducation', ha='center', va='center')\n",
    "    axs[1, 1].set_title('Nivel Educativo')\n",
    "\n",
    "# Ocupación\n",
    "if 'SpanishOccupation' in df.columns:\n",
    "    sns.countplot(data=df, x='SpanishOccupation', hue='SpanishOccupation', legend=False, ax=axs[1, 2], palette='Paired')\n",
    "    axs[1, 2].set_title('Ocupación')\n",
    "    axs[1, 2].tick_params(axis='x', rotation=45)\n",
    "else:\n",
    "    axs[1, 2].text(0.5, 0.5, 'No hay columna SpanishOccupation', ha='center', va='center')\n",
    "    axs[1, 2].set_title('Ocupación')\n",
    "\n",
    "plt.tight_layout()\n",
    "plt.savefig('outputs/graficos/distribuciones_demograficas_actualizadas.png')\n",
    "plt.show()\n"
   ]
  },
  {
   "cell_type": "code",
   "execution_count": 179,
   "id": "b143333e",
   "metadata": {},
   "outputs": [
    {
     "data": {
      "application/vnd.plotly.v1+json": {
       "config": {
        "plotlyServerURL": "https://plot.ly"
       },
       "data": [
        {
         "coloraxis": "coloraxis",
         "hovertemplate": "x: %{x}<br>y: %{y}<br>color: %{z}<extra></extra>",
         "name": "0",
         "texttemplate": "%{z}",
         "type": "heatmap",
         "x": [
          "﻿CustomerKey",
          "GeographyKey",
          "YearlyIncome",
          "TotalChildren",
          "NumberChildrenAtHome",
          "HouseOwnerFlag",
          "NumberCarsOwned",
          "BikeBuyer",
          "Age"
         ],
         "xaxis": "x",
         "y": [
          "﻿CustomerKey",
          "GeographyKey",
          "YearlyIncome",
          "TotalChildren",
          "NumberChildrenAtHome",
          "HouseOwnerFlag",
          "NumberCarsOwned",
          "BikeBuyer",
          "Age"
         ],
         "yaxis": "y",
         "z": {
          "bdata": "AAAAAAAA8D/uzlDGOlVTv4CAiw/5gqy/RP505fTjeL9RxCKpMXSUv1V8Qojx77+/15xrWO1cdz+FB7Kr38V3P/vme19wYnG/7s5QxjpVU78AAAAAAADwP2Y5s8kORqc/r40mkodtsT9Rj++JSbq4vxWMBttMNas/fgwAfPBvr7+H5Cimryy2v8OPH+NLLLE/gICLD/mCrL9mObPJDkanPwAAAAAAAPA/pGKd/GCjyz9onf3av+/cP0gjHXvEZ6c/Sms5HIzd3T/tNY/sRkymPz7kLfAQc8E/RP505fTjeL+vjSaSh22xP6Rinfxgo8s/AAAAAAAA8D8UkcAes4TdP4p4Q+tgxsc/LcoCjmX80D+khJlYhkbAv7I0hxjvdt4/UcQiqTF0lL9Rj++JSbq4v2id/dq/79w/FJHAHrOE3T8AAAAAAADwP+tfecL0vcA/1FuixPAl2z/mK6T6aDK2v2mYHxqsT4O/VXxCiPHvv78VjAbbTDWrP0gjHXvEZ6c/inhD62DGxz/rX3nC9L3APwAAAAAAAPA/6GtEywKwrb/x1mKRybF+P/pg67sEGLo/15xrWO1cdz9+DAB88G+vv0prORyM3d0/LcoCjmX80D/UW6LE8CXbP+hrRMsCsK2/AAAAAAAA8D/PYon0libHv4whV1p3Gcg/hQeyq9/Fdz+H5Cimryy2v+01j+xGTKY/pISZWIZGwL/mK6T6aDK2v/HWYpHJsX4/z2KJ9JYmx78AAAAAAADwP3vJhawvUb2/++Z7X3Bicb/Djx/jSyyxPz7kLfAQc8E/sjSHGO923j9pmB8arE+Dv/pg67sEGLo/jCFXWncZyD97yYWsL1G9vwAAAAAAAPA/",
          "dtype": "f8",
          "shape": "9, 9"
         }
        }
       ],
       "layout": {
        "coloraxis": {
         "colorscale": [
          [
           0,
           "rgb(5,48,97)"
          ],
          [
           0.1,
           "rgb(33,102,172)"
          ],
          [
           0.2,
           "rgb(67,147,195)"
          ],
          [
           0.3,
           "rgb(146,197,222)"
          ],
          [
           0.4,
           "rgb(209,229,240)"
          ],
          [
           0.5,
           "rgb(247,247,247)"
          ],
          [
           0.6,
           "rgb(253,219,199)"
          ],
          [
           0.7,
           "rgb(244,165,130)"
          ],
          [
           0.8,
           "rgb(214,96,77)"
          ],
          [
           0.9,
           "rgb(178,24,43)"
          ],
          [
           1,
           "rgb(103,0,31)"
          ]
         ]
        },
        "template": {
         "data": {
          "bar": [
           {
            "error_x": {
             "color": "#2a3f5f"
            },
            "error_y": {
             "color": "#2a3f5f"
            },
            "marker": {
             "line": {
              "color": "#E5ECF6",
              "width": 0.5
             },
             "pattern": {
              "fillmode": "overlay",
              "size": 10,
              "solidity": 0.2
             }
            },
            "type": "bar"
           }
          ],
          "barpolar": [
           {
            "marker": {
             "line": {
              "color": "#E5ECF6",
              "width": 0.5
             },
             "pattern": {
              "fillmode": "overlay",
              "size": 10,
              "solidity": 0.2
             }
            },
            "type": "barpolar"
           }
          ],
          "carpet": [
           {
            "aaxis": {
             "endlinecolor": "#2a3f5f",
             "gridcolor": "white",
             "linecolor": "white",
             "minorgridcolor": "white",
             "startlinecolor": "#2a3f5f"
            },
            "baxis": {
             "endlinecolor": "#2a3f5f",
             "gridcolor": "white",
             "linecolor": "white",
             "minorgridcolor": "white",
             "startlinecolor": "#2a3f5f"
            },
            "type": "carpet"
           }
          ],
          "choropleth": [
           {
            "colorbar": {
             "outlinewidth": 0,
             "ticks": ""
            },
            "type": "choropleth"
           }
          ],
          "contour": [
           {
            "colorbar": {
             "outlinewidth": 0,
             "ticks": ""
            },
            "colorscale": [
             [
              0,
              "#0d0887"
             ],
             [
              0.1111111111111111,
              "#46039f"
             ],
             [
              0.2222222222222222,
              "#7201a8"
             ],
             [
              0.3333333333333333,
              "#9c179e"
             ],
             [
              0.4444444444444444,
              "#bd3786"
             ],
             [
              0.5555555555555556,
              "#d8576b"
             ],
             [
              0.6666666666666666,
              "#ed7953"
             ],
             [
              0.7777777777777778,
              "#fb9f3a"
             ],
             [
              0.8888888888888888,
              "#fdca26"
             ],
             [
              1,
              "#f0f921"
             ]
            ],
            "type": "contour"
           }
          ],
          "contourcarpet": [
           {
            "colorbar": {
             "outlinewidth": 0,
             "ticks": ""
            },
            "type": "contourcarpet"
           }
          ],
          "heatmap": [
           {
            "colorbar": {
             "outlinewidth": 0,
             "ticks": ""
            },
            "colorscale": [
             [
              0,
              "#0d0887"
             ],
             [
              0.1111111111111111,
              "#46039f"
             ],
             [
              0.2222222222222222,
              "#7201a8"
             ],
             [
              0.3333333333333333,
              "#9c179e"
             ],
             [
              0.4444444444444444,
              "#bd3786"
             ],
             [
              0.5555555555555556,
              "#d8576b"
             ],
             [
              0.6666666666666666,
              "#ed7953"
             ],
             [
              0.7777777777777778,
              "#fb9f3a"
             ],
             [
              0.8888888888888888,
              "#fdca26"
             ],
             [
              1,
              "#f0f921"
             ]
            ],
            "type": "heatmap"
           }
          ],
          "histogram": [
           {
            "marker": {
             "pattern": {
              "fillmode": "overlay",
              "size": 10,
              "solidity": 0.2
             }
            },
            "type": "histogram"
           }
          ],
          "histogram2d": [
           {
            "colorbar": {
             "outlinewidth": 0,
             "ticks": ""
            },
            "colorscale": [
             [
              0,
              "#0d0887"
             ],
             [
              0.1111111111111111,
              "#46039f"
             ],
             [
              0.2222222222222222,
              "#7201a8"
             ],
             [
              0.3333333333333333,
              "#9c179e"
             ],
             [
              0.4444444444444444,
              "#bd3786"
             ],
             [
              0.5555555555555556,
              "#d8576b"
             ],
             [
              0.6666666666666666,
              "#ed7953"
             ],
             [
              0.7777777777777778,
              "#fb9f3a"
             ],
             [
              0.8888888888888888,
              "#fdca26"
             ],
             [
              1,
              "#f0f921"
             ]
            ],
            "type": "histogram2d"
           }
          ],
          "histogram2dcontour": [
           {
            "colorbar": {
             "outlinewidth": 0,
             "ticks": ""
            },
            "colorscale": [
             [
              0,
              "#0d0887"
             ],
             [
              0.1111111111111111,
              "#46039f"
             ],
             [
              0.2222222222222222,
              "#7201a8"
             ],
             [
              0.3333333333333333,
              "#9c179e"
             ],
             [
              0.4444444444444444,
              "#bd3786"
             ],
             [
              0.5555555555555556,
              "#d8576b"
             ],
             [
              0.6666666666666666,
              "#ed7953"
             ],
             [
              0.7777777777777778,
              "#fb9f3a"
             ],
             [
              0.8888888888888888,
              "#fdca26"
             ],
             [
              1,
              "#f0f921"
             ]
            ],
            "type": "histogram2dcontour"
           }
          ],
          "mesh3d": [
           {
            "colorbar": {
             "outlinewidth": 0,
             "ticks": ""
            },
            "type": "mesh3d"
           }
          ],
          "parcoords": [
           {
            "line": {
             "colorbar": {
              "outlinewidth": 0,
              "ticks": ""
             }
            },
            "type": "parcoords"
           }
          ],
          "pie": [
           {
            "automargin": true,
            "type": "pie"
           }
          ],
          "scatter": [
           {
            "fillpattern": {
             "fillmode": "overlay",
             "size": 10,
             "solidity": 0.2
            },
            "type": "scatter"
           }
          ],
          "scatter3d": [
           {
            "line": {
             "colorbar": {
              "outlinewidth": 0,
              "ticks": ""
             }
            },
            "marker": {
             "colorbar": {
              "outlinewidth": 0,
              "ticks": ""
             }
            },
            "type": "scatter3d"
           }
          ],
          "scattercarpet": [
           {
            "marker": {
             "colorbar": {
              "outlinewidth": 0,
              "ticks": ""
             }
            },
            "type": "scattercarpet"
           }
          ],
          "scattergeo": [
           {
            "marker": {
             "colorbar": {
              "outlinewidth": 0,
              "ticks": ""
             }
            },
            "type": "scattergeo"
           }
          ],
          "scattergl": [
           {
            "marker": {
             "colorbar": {
              "outlinewidth": 0,
              "ticks": ""
             }
            },
            "type": "scattergl"
           }
          ],
          "scattermap": [
           {
            "marker": {
             "colorbar": {
              "outlinewidth": 0,
              "ticks": ""
             }
            },
            "type": "scattermap"
           }
          ],
          "scattermapbox": [
           {
            "marker": {
             "colorbar": {
              "outlinewidth": 0,
              "ticks": ""
             }
            },
            "type": "scattermapbox"
           }
          ],
          "scatterpolar": [
           {
            "marker": {
             "colorbar": {
              "outlinewidth": 0,
              "ticks": ""
             }
            },
            "type": "scatterpolar"
           }
          ],
          "scatterpolargl": [
           {
            "marker": {
             "colorbar": {
              "outlinewidth": 0,
              "ticks": ""
             }
            },
            "type": "scatterpolargl"
           }
          ],
          "scatterternary": [
           {
            "marker": {
             "colorbar": {
              "outlinewidth": 0,
              "ticks": ""
             }
            },
            "type": "scatterternary"
           }
          ],
          "surface": [
           {
            "colorbar": {
             "outlinewidth": 0,
             "ticks": ""
            },
            "colorscale": [
             [
              0,
              "#0d0887"
             ],
             [
              0.1111111111111111,
              "#46039f"
             ],
             [
              0.2222222222222222,
              "#7201a8"
             ],
             [
              0.3333333333333333,
              "#9c179e"
             ],
             [
              0.4444444444444444,
              "#bd3786"
             ],
             [
              0.5555555555555556,
              "#d8576b"
             ],
             [
              0.6666666666666666,
              "#ed7953"
             ],
             [
              0.7777777777777778,
              "#fb9f3a"
             ],
             [
              0.8888888888888888,
              "#fdca26"
             ],
             [
              1,
              "#f0f921"
             ]
            ],
            "type": "surface"
           }
          ],
          "table": [
           {
            "cells": {
             "fill": {
              "color": "#EBF0F8"
             },
             "line": {
              "color": "white"
             }
            },
            "header": {
             "fill": {
              "color": "#C8D4E3"
             },
             "line": {
              "color": "white"
             }
            },
            "type": "table"
           }
          ]
         },
         "layout": {
          "annotationdefaults": {
           "arrowcolor": "#2a3f5f",
           "arrowhead": 0,
           "arrowwidth": 1
          },
          "autotypenumbers": "strict",
          "coloraxis": {
           "colorbar": {
            "outlinewidth": 0,
            "ticks": ""
           }
          },
          "colorscale": {
           "diverging": [
            [
             0,
             "#8e0152"
            ],
            [
             0.1,
             "#c51b7d"
            ],
            [
             0.2,
             "#de77ae"
            ],
            [
             0.3,
             "#f1b6da"
            ],
            [
             0.4,
             "#fde0ef"
            ],
            [
             0.5,
             "#f7f7f7"
            ],
            [
             0.6,
             "#e6f5d0"
            ],
            [
             0.7,
             "#b8e186"
            ],
            [
             0.8,
             "#7fbc41"
            ],
            [
             0.9,
             "#4d9221"
            ],
            [
             1,
             "#276419"
            ]
           ],
           "sequential": [
            [
             0,
             "#0d0887"
            ],
            [
             0.1111111111111111,
             "#46039f"
            ],
            [
             0.2222222222222222,
             "#7201a8"
            ],
            [
             0.3333333333333333,
             "#9c179e"
            ],
            [
             0.4444444444444444,
             "#bd3786"
            ],
            [
             0.5555555555555556,
             "#d8576b"
            ],
            [
             0.6666666666666666,
             "#ed7953"
            ],
            [
             0.7777777777777778,
             "#fb9f3a"
            ],
            [
             0.8888888888888888,
             "#fdca26"
            ],
            [
             1,
             "#f0f921"
            ]
           ],
           "sequentialminus": [
            [
             0,
             "#0d0887"
            ],
            [
             0.1111111111111111,
             "#46039f"
            ],
            [
             0.2222222222222222,
             "#7201a8"
            ],
            [
             0.3333333333333333,
             "#9c179e"
            ],
            [
             0.4444444444444444,
             "#bd3786"
            ],
            [
             0.5555555555555556,
             "#d8576b"
            ],
            [
             0.6666666666666666,
             "#ed7953"
            ],
            [
             0.7777777777777778,
             "#fb9f3a"
            ],
            [
             0.8888888888888888,
             "#fdca26"
            ],
            [
             1,
             "#f0f921"
            ]
           ]
          },
          "colorway": [
           "#636efa",
           "#EF553B",
           "#00cc96",
           "#ab63fa",
           "#FFA15A",
           "#19d3f3",
           "#FF6692",
           "#B6E880",
           "#FF97FF",
           "#FECB52"
          ],
          "font": {
           "color": "#2a3f5f"
          },
          "geo": {
           "bgcolor": "white",
           "lakecolor": "white",
           "landcolor": "#E5ECF6",
           "showlakes": true,
           "showland": true,
           "subunitcolor": "white"
          },
          "hoverlabel": {
           "align": "left"
          },
          "hovermode": "closest",
          "mapbox": {
           "style": "light"
          },
          "paper_bgcolor": "white",
          "plot_bgcolor": "#E5ECF6",
          "polar": {
           "angularaxis": {
            "gridcolor": "white",
            "linecolor": "white",
            "ticks": ""
           },
           "bgcolor": "#E5ECF6",
           "radialaxis": {
            "gridcolor": "white",
            "linecolor": "white",
            "ticks": ""
           }
          },
          "scene": {
           "xaxis": {
            "backgroundcolor": "#E5ECF6",
            "gridcolor": "white",
            "gridwidth": 2,
            "linecolor": "white",
            "showbackground": true,
            "ticks": "",
            "zerolinecolor": "white"
           },
           "yaxis": {
            "backgroundcolor": "#E5ECF6",
            "gridcolor": "white",
            "gridwidth": 2,
            "linecolor": "white",
            "showbackground": true,
            "ticks": "",
            "zerolinecolor": "white"
           },
           "zaxis": {
            "backgroundcolor": "#E5ECF6",
            "gridcolor": "white",
            "gridwidth": 2,
            "linecolor": "white",
            "showbackground": true,
            "ticks": "",
            "zerolinecolor": "white"
           }
          },
          "shapedefaults": {
           "line": {
            "color": "#2a3f5f"
           }
          },
          "ternary": {
           "aaxis": {
            "gridcolor": "white",
            "linecolor": "white",
            "ticks": ""
           },
           "baxis": {
            "gridcolor": "white",
            "linecolor": "white",
            "ticks": ""
           },
           "bgcolor": "#E5ECF6",
           "caxis": {
            "gridcolor": "white",
            "linecolor": "white",
            "ticks": ""
           }
          },
          "title": {
           "x": 0.05
          },
          "xaxis": {
           "automargin": true,
           "gridcolor": "white",
           "linecolor": "white",
           "ticks": "",
           "title": {
            "standoff": 15
           },
           "zerolinecolor": "white",
           "zerolinewidth": 2
          },
          "yaxis": {
           "automargin": true,
           "gridcolor": "white",
           "linecolor": "white",
           "ticks": "",
           "title": {
            "standoff": 15
           },
           "zerolinecolor": "white",
           "zerolinewidth": 2
          }
         }
        },
        "title": {
         "text": "Mapa de calor interactivo de correlaciones"
        },
        "xaxis": {
         "anchor": "y",
         "domain": [
          0,
          1
         ]
        },
        "yaxis": {
         "anchor": "x",
         "autorange": "reversed",
         "domain": [
          0,
          1
         ]
        }
       }
      }
     },
     "metadata": {},
     "output_type": "display_data"
    }
   ],
   "source": [
    "# Eliminar la columna 'NameStyle' del DataFrame de correlaciones\n",
    "\n",
    "fig = px.imshow(correlaciones,\n",
    "                text_auto=True,\n",
    "                color_continuous_scale='RdBu_r',\n",
    "                aspect='auto',\n",
    "                title=\"Mapa de calor interactivo de correlaciones\")\n",
    "fig.write_html(\"outputs/graficos/correlaciones_interactivas.html\")\n",
    "fig.show()\n",
    "\n",
    "\n",
    "\n"
   ]
  },
  {
   "cell_type": "markdown",
   "id": "34f33760",
   "metadata": {},
   "source": [
    "# **3. MODIFY - MODIFICACIÓN**"
   ]
  },
  {
   "cell_type": "code",
   "execution_count": null,
   "id": "73829803",
   "metadata": {},
   "outputs": [],
   "source": [
    "# Eliminar columnas irrelevantes \n",
    "cols_drop = ['NameStyle', 'Suffix']\n",
    "df.drop(columns=cols_drop, inplace=True)"
   ]
  },
  {
   "cell_type": "code",
   "execution_count": null,
   "id": "fe96cf1c",
   "metadata": {},
   "outputs": [],
   "source": [
    "# Eliminar columnas con datos repetitivos (diferentes idiaomas)\n",
    "cols_drop = [ 'EnglishEducation', 'FrenchEducation',\n",
    "            'EnglishOccupation', 'FrenchOccupation']\n",
    "df.drop(columns=cols_drop, inplace=True)"
   ]
  },
  {
   "cell_type": "code",
   "execution_count": 155,
   "id": "e6302606",
   "metadata": {},
   "outputs": [],
   "source": [
    "# ccolumna de clasificación de ingresos\n",
    "def clasificar_ingreso(valor):\n",
    "    if valor < 30000:\n",
    "        return 'Bajo'\n",
    "    elif valor < 70000:\n",
    "        return 'Medio'\n",
    "    else:\n",
    "        return 'Alto'\n",
    "\n",
    "df['SegmentoIngreso'] = df['YearlyIncome'].apply(clasificar_ingreso)\n"
   ]
  },
  {
   "cell_type": "code",
   "execution_count": 154,
   "id": "11bbb4ba",
   "metadata": {},
   "outputs": [],
   "source": [
    "# Coumna de clasificación por grupo etario\n",
    "def clasificar_edad(edad):\n",
    "    if edad < 25:\n",
    "        return 'Joven'\n",
    "    elif edad < 45:\n",
    "        return 'Adulto'\n",
    "    elif edad < 65:\n",
    "        return 'Adulto mayor'\n",
    "    else:\n",
    "        return 'Senior'\n",
    "\n",
    "df['SegmentoEdad'] = df['Age'].apply(clasificar_edad)"
   ]
  },
  {
   "cell_type": "markdown",
   "id": "27e008d1",
   "metadata": {},
   "source": [
    "# **4. MODEL - MODELADO**"
   ]
  },
  {
   "cell_type": "code",
   "execution_count": null,
   "id": "afff8d9b",
   "metadata": {},
   "outputs": [
    {
     "name": "stdout",
     "output_type": "stream",
     "text": [
      "YearlyIncome       0\n",
      "TotalChildren      0\n",
      "HouseOwnerFlag     0\n",
      "NumberCarsOwned    0\n",
      "Age                0\n",
      "dtype: int64\n",
      "0\n"
     ]
    }
   ],
   "source": [
    "# Definir X e y\n",
    "y = df['BikeBuyer']\n",
    "X = df.drop(columns=['BikeBuyer'])\n",
    "\n",
    "# Dividir los datos (20% para prueba por setr demasiados)\n",
    "X_train, X_test, y_train, y_test = train_test_split(X, y, test_size=0.2, random_state=42)\n",
    "\n",
    "# Definir las columnas categóricas\n",
    "categorical_columns = ['CustomerAlternateKey', 'Title', 'FirstName', 'MiddleName', 'LastName', 'MaritalStatus', \n",
    "                    'Gender', 'EmailAddress', 'SpanishEducation', 'SpanishOccupation', 'AddressLine1', \n",
    "                    'AddressLine2', 'Phone', 'DateFirstPurchase', 'CommuteDistance', 'Region']\n",
    "\n",
    "# Aplicar get_dummies a las columnas categóricas\n",
    "X_train = pd.get_dummies(X_train, columns=categorical_columns, drop_first=True)\n",
    "X_test = pd.get_dummies(X_test, columns=categorical_columns, drop_first=True)\n",
    "\n",
    "# Alinear las columnas \n",
    "X_train, X_test = X_train.align(X_test, join='left', axis=1, fill_value=0)\n",
    "\n",
    "# Eliminación de columnas no necesarias\n",
    "X_train = X_train.drop(columns=['BirthDate'])\n",
    "X_test = X_test.drop(columns=['BirthDate'])\n",
    "\n",
    "# Selección de columnas relevantes para reducir la carga de memoria\n",
    "columns_to_keep = ['YearlyIncome', 'TotalChildren', 'HouseOwnerFlag', 'NumberCarsOwned', 'Age']\n",
    "X_train = X_train[columns_to_keep]\n",
    "X_test = X_test[columns_to_keep]\n",
    "\n",
    "# Imputar nulos en Age con la mediana\n",
    "X_train['Age'] = X_train['Age'].fillna(X_train['Age'].median())\n",
    "X_test['Age'] = X_test['Age'].fillna(X_test['Age'].median())\n",
    "\n",
    "print(X_train.isnull().sum())\n",
    "print(y_train.isnull().sum())\n",
    "\n",
    "# Escalado de Características\n",
    "from sklearn.preprocessing import MinMaxScaler\n",
    "\n",
    "scaler = MinMaxScaler()\n",
    "X_train = scaler.fit_transform(X_train)\n",
    "X_test = scaler.transform(X_test)\n",
    "\n",
    "# Codificación de la Variable Objetivo\n",
    "from sklearn.preprocessing import LabelEncoder\n",
    "\n",
    "encoder = LabelEncoder()\n",
    "y_train = encoder.fit_transform(y_train)\n",
    "y_test = encoder.transform(y_test)\n",
    "\n",
    "# Modelos\n",
    "from sklearn.ensemble import RandomForestClassifier, GradientBoostingClassifier\n",
    "\n",
    "# Modelo 1: Random Forest\n",
    "rf = RandomForestClassifier(n_estimators=100, random_state=42)\n",
    "rf.fit(X_train, y_train)\n",
    "y_pred_rf = rf.predict_proba(X_test)\n",
    "\n",
    "# Modelo 2: Gradient Boosting\n",
    "gb = GradientBoostingClassifier(n_estimators=100, random_state=42)\n",
    "gb.fit(X_train, y_train)\n",
    "y_pred_gb = gb.predict_proba(X_test)\n",
    "\n"
   ]
  },
  {
   "cell_type": "markdown",
   "id": "2a20ba3e",
   "metadata": {},
   "source": [
    "# **5. ASSETS - EVALUACIÓN**"
   ]
  },
  {
   "cell_type": "code",
   "execution_count": 170,
   "id": "2b5eacc5",
   "metadata": {},
   "outputs": [
    {
     "name": "stdout",
     "output_type": "stream",
     "text": [
      "Random Forest - Accuracy: 0.6829862050311063\n",
      "Random Forest - Classification Report:\n",
      "               precision    recall  f1-score   support\n",
      "\n",
      "           0       0.68      0.72      0.70      1884\n",
      "           1       0.69      0.64      0.66      1813\n",
      "\n",
      "    accuracy                           0.68      3697\n",
      "   macro avg       0.68      0.68      0.68      3697\n",
      "weighted avg       0.68      0.68      0.68      3697\n",
      "\n",
      "Random Forest - Confusion Matrix:\n",
      " [[1364  520]\n",
      " [ 652 1161]]\n",
      "Gradient Boosting - Accuracy: 0.6648634027589938\n",
      "Gradient Boosting - Classification Report:\n",
      "               precision    recall  f1-score   support\n",
      "\n",
      "           0       0.66      0.69      0.68      1884\n",
      "           1       0.66      0.64      0.65      1813\n",
      "\n",
      "    accuracy                           0.66      3697\n",
      "   macro avg       0.66      0.66      0.66      3697\n",
      "weighted avg       0.66      0.66      0.66      3697\n",
      "\n",
      "Gradient Boosting - Confusion Matrix:\n",
      " [[1300  584]\n",
      " [ 655 1158]]\n"
     ]
    }
   ],
   "source": [
    "# Convertir las probabilidades a clases predichas (umbral de 0.5)\n",
    "y_pred_rf_classes = (y_prob_rf >= 0.5).astype(int)\n",
    "y_pred_gb_classes = (y_prob_gb >= 0.5).astype(int) \n",
    "\n",
    "# Evaluar el modelo Random Forest con las clases predichas\n",
    "from sklearn.metrics import classification_report, accuracy_score, confusion_matrix\n",
    "\n",
    "print(\"Random Forest - Accuracy:\", accuracy_score(y_test, y_pred_rf_classes))\n",
    "print(\"Random Forest - Classification Report:\\n\", classification_report(y_test, y_pred_rf_classes))\n",
    "print(\"Random Forest - Confusion Matrix:\\n\", confusion_matrix(y_test, y_pred_rf_classes))\n",
    "\n",
    "# Evaluar el modelo Gradient Boosting de la misma forma\n",
    "print(\"Gradient Boosting - Accuracy:\", accuracy_score(y_test, y_pred_gb_classes))\n",
    "print(\"Gradient Boosting - Classification Report:\\n\", classification_report(y_test, y_pred_gb_classes))\n",
    "print(\"Gradient Boosting - Confusion Matrix:\\n\", confusion_matrix(y_test, y_pred_gb_classes))\n"
   ]
  },
  {
   "cell_type": "code",
   "execution_count": 171,
   "id": "a4abbd70",
   "metadata": {},
   "outputs": [
    {
     "data": {
      "image/png": "[encoded data removed]",
      "text/plain": [
       "<Figure size 1200x500 with 2 Axes>"
      ]
     },
     "metadata": {},
     "output_type": "display_data"
    }
   ],
   "source": [
    "import seaborn as sns\n",
    "import matplotlib.pyplot as plt\n",
    "from sklearn.metrics import confusion_matrix\n",
    "\n",
    "# Crear las matrices de confusión\n",
    "cm_rf = confusion_matrix(y_test, y_pred_rf_classes)\n",
    "cm_gb = confusion_matrix(y_test, y_pred_gb_classes)\n",
    "\n",
    "# Crear un gráfico de la matriz de confusión para Random Forest\n",
    "plt.figure(figsize=(12, 5))\n",
    "\n",
    "# Random Forest\n",
    "plt.subplot(1, 2, 1)\n",
    "sns.heatmap(cm_rf, annot=True, fmt='d', cmap='Blues', cbar=False, xticklabels=['No Bike', 'Bike'], yticklabels=['No Bike', 'Bike'])\n",
    "plt.title('Matriz de Confusión - Random Forest')\n",
    "plt.xlabel('Predicción')\n",
    "plt.ylabel('Real')\n",
    "\n",
    "# Gradient Boosting\n",
    "plt.subplot(1, 2, 2)\n",
    "sns.heatmap(cm_gb, annot=True, fmt='d', cmap='Blues', cbar=False, xticklabels=['No Bike', 'Bike'], yticklabels=['No Bike', 'Bike'])\n",
    "plt.title('Matriz de Confusión - Gradient Boosting')\n",
    "plt.xlabel('Predicción')\n",
    "plt.ylabel('Real')\n",
    "\n",
    "plt.tight_layout()\n",
    "plt.savefig('outputs/graficos/matriz_de_confuson.png')\n",
    "plt.show()\n"
   ]
  },
  {
   "cell_type": "code",
   "execution_count": 172,
   "id": "58599c5c",
   "metadata": {},
   "outputs": [
    {
     "data": {
      "image/png": "[encoded data removed]",
      "text/plain": [
       "<Figure size 1000x600 with 1 Axes>"
      ]
     },
     "metadata": {},
     "output_type": "display_data"
    }
   ],
   "source": [
    "from sklearn.metrics import precision_score, recall_score, f1_score\n",
    "\n",
    "# Calcular las métricas para Random Forest\n",
    "precision_rf = precision_score(y_test, y_pred_rf_classes)\n",
    "recall_rf = recall_score(y_test, y_pred_rf_classes)\n",
    "f1_rf = f1_score(y_test, y_pred_rf_classes)\n",
    "\n",
    "# Calcular las métricas para Gradient Boosting\n",
    "precision_gb = precision_score(y_test, y_pred_gb_classes)\n",
    "recall_gb = recall_score(y_test, y_pred_gb_classes)\n",
    "f1_gb = f1_score(y_test, y_pred_gb_classes)\n",
    "\n",
    "# Crear un DataFrame para facilitar el gráfico\n",
    "metrics_df = pd.DataFrame({\n",
    "    'Metric': ['Precision', 'Recall', 'F1-Score'],\n",
    "    'Random Forest': [precision_rf, recall_rf, f1_rf],\n",
    "    'Gradient Boosting': [precision_gb, recall_gb, f1_gb]\n",
    "})\n",
    "\n",
    "# Graficar las métricas\n",
    "metrics_df.set_index('Metric').plot(kind='bar', figsize=(10, 6))\n",
    "plt.title('Comparación de Métricas: Random Forest vs Gradient Boosting')\n",
    "plt.ylabel('Score')\n",
    "plt.xlabel('Metricas')\n",
    "plt.xticks(rotation=0)\n",
    "plt.tight_layout()\n",
    "plt.savefig('outputs/graficos/presicion_recall_f1score.png')\n",
    "plt.show()\n"
   ]
  },
  {
   "cell_type": "code",
   "execution_count": 173,
   "id": "ddff503c",
   "metadata": {},
   "outputs": [
    {
     "data": {
      "image/png": "[encoded data removed]",
      "text/plain": [
       "<Figure size 600x400 with 1 Axes>"
      ]
     },
     "metadata": {},
     "output_type": "display_data"
    }
   ],
   "source": [
    "# Calcular la exactitud de ambos modelos\n",
    "accuracy_rf = accuracy_score(y_test, y_pred_rf_classes)\n",
    "accuracy_gb = accuracy_score(y_test, y_pred_gb_classes)\n",
    "\n",
    "# Graficar la comparación de precisión entre ambos modelos\n",
    "plt.figure(figsize=(6, 4))\n",
    "plt.bar(['Random Forest', 'Gradient Boosting'], [accuracy_rf, accuracy_gb], color=['blue', 'green'])\n",
    "plt.title('Comparación de Exactitud: Random Forest vs Gradient Boosting')\n",
    "plt.ylabel('Exactitud')\n",
    "plt.tight_layout()\n",
    "plt.savefig('outputs/graficos/cpmapracion_exatitud.png')\n",
    "plt.show()\n"
   ]
  }
 ],
 "metadata": {
  "kernelspec": {
   "display_name": "venv",
   "language": "python",
   "name": "python3"
  },
  "language_info": {
   "codemirror_mode": {
    "name": "ipython",
    "version": 3
   },
   "file_extension": ".py",
   "mimetype": "text/x-python",
   "name": "python",
   "nbconvert_exporter": "python",
   "pygments_lexer": "ipython3",
   "version": "3.12.4"
  }
 },
 "nbformat": 4,
 "nbformat_minor": 5
}
